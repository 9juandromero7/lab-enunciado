{
 "cells": [
  {
   "cell_type": "markdown",
   "metadata": {},
   "source": [
    "# Laboratorio 1"
   ]
  },
  {
   "cell_type": "markdown",
   "metadata": {},
   "source": [
    "## Desarrollo de una herramienta analítica usando recursos nativos de Python"
   ]
  },
  {
   "cell_type": "markdown",
   "metadata": {},
   "source": [
    "Para el desarrollo de esta actividad debes utilizar únicamente recursos nativos de Python (puedes usar librerías como `math` y `random`). Está prohibido el uso de librerías externas, a excepción de `matplotlib`. Te recomendamos leer por completo el enunciado del laboratorio antes de comenzar, de forma que tengas claro el propósito global de la actividad y puedas desarrollar tu solución apuntando a él desde el inicio."
   ]
  },
  {
   "cell_type": "markdown",
   "metadata": {},
   "source": [
    "En algunas de las misiones encontrarás: una **versión base**, la cual indica el requerimiento mínimo de la misión; una **versión completa**, la cual indica mejoras deseables o complementos a la **versión base**. Un desarrollo aceptable del laboratorio debe satisfacer la **versión base** y un desarrollo correcto del laboratorio debe satisfacer la **versión completa**. Cumplir con el desarrollo de la **versión completa** desde un inicio hará más sencillas las misiones siguientes."
   ]
  },
  {
   "cell_type": "markdown",
   "metadata": {},
   "source": [
    "Al desarrollar este laboratorio pondrás a prueba tus habilidades para:\n",
    "\n",
    "1. Identificar y abordar preguntas de negocio y de *analytics*.\n",
    "2. Leer datos desde archivos y almacenarlos en estructuras de Python.\n",
    "3. Crear y llamar funciones.\n",
    "4. Implementar condicionales diferenciando `if`, `elif` y `else`.\n",
    "5. Implementar ciclos diferenciando el propósito de `for` y `while`."
   ]
  },
  {
   "cell_type": "markdown",
   "metadata": {},
   "source": [
    "## Contexto: exploración del potencial para asignar becas Unialpes"
   ]
  },
  {
   "cell_type": "markdown",
   "metadata": {},
   "source": [
    "La Universidad ean se ha caracterizado por su compromiso con la generación de impacto en la sociedad a través de diferentes programas de becas. Programas como Becas para los Mejores, entre otros, han sido revolucionarios al permitir que estudiantes de bajos recursos puedan acceder a una de las universidades más prestigiosas del país."
   ]
  },
  {
   "cell_type": "markdown",
   "metadata": {},
   "source": [
    "Actualmente, la universidad quiere evaluar el potencial impacto que tendrían algunos programas de acción afirmativa para asignación de becas, con base en información demográfica que ha obtenido a través de encuestas a personas interesadas en becas. Se cuenta con información respecto a la edad, género, estado civil, estrato socioeconómico, región de proveniencia, desempeño académico y nivel de escolaridad de las personas encuestadas. Los encargados de diseñar el programa saben que utilizar criterios basados en este tipo de variables es un tema sensible, pero es necesario si se quieren focalizar las oportunidades en poblaciones menos representadas."
   ]
  },
  {
   "cell_type": "markdown",
   "metadata": {},
   "source": [
    "El objetivo de este laboratorio es crear una herramienta computacional que permita a un tomador de decisiones explorar qué efecto podría tener el uso de diferentes reglas para seleccionar a los beneficiarios de las becas. Puntualmente, se espera que, para distintas reglas de selección (ej., pertenecer a cierta región, rango de edad, etc.), la herramienta ofrezca una caracterización de los potenciales beneficiarios de las becas (a partir de estadísticas descriptivas y visualizaciones), de forma que exista un sustento para elegir la regla de selección adecuada."
   ]
  },
  {
   "cell_type": "markdown",
   "metadata": {},
   "source": [
    "## Fase 1: obtener e inspeccionar archivos"
   ]
  },
  {
   "cell_type": "markdown",
   "metadata": {},
   "source": [
    "Los datos de encuestas fueron obtenidos como parte de un trabajo de campo y, por limitaciones tecnológicas, solo se cuenta con la información en archivos de texto plano (`.txt`). Cada archivo corresponde a uno de los atributos antes mencionados y están estructurados de forma que todos relacionan a las personas encuestadas en el mismo orden (i.e., en cada archivo la primera línea corresponde a un dato de la primera persona encuestada, la segunda línea corresponde a un dato de la segunda persona encuestada, etc.)."
   ]
  },
  {
   "cell_type": "markdown",
   "metadata": {},
   "source": [
    "Los archivos con los que cuentas son:\n",
    "\n",
    "* `\"edad.txt\"`: un archivo con la edad de cada persona encuestada;\n",
    "* `\"escolaridad.txt\"`: un archivo con el nivel de escolaridad de cada persona encuestada;\n",
    "* `\"estado_civil.txt\"`: un archivo con el estado civil de cada persona encuestada;\n",
    "* `\"estrato.txt\"`: un archivo con el estrato socioeconómico de cada persona encuestada;\n",
    "* `\"genero.txt\"`: un archivo con el género de cada persona encuestada;\n",
    "* `\"promedio.txt\"`: un archivo con el promedio académico de cada persona encuestada;\n",
    "* `\"region.txt\"`: un archivo con la región de proveniencia de cada persona encuestada."
   ]
  },
  {
   "cell_type": "markdown",
   "metadata": {},
   "source": [
    "### Misión 1"
   ]
  },
  {
   "cell_type": "markdown",
   "metadata": {},
   "source": [
    "**Versión base**: utiliza métodos de lectura de archivos para guardar la información de cada archivo en una estructura de datos de Python, de manera que se respete el orden y la categoría de los datos."
   ]
  },
  {
   "cell_type": "markdown",
   "metadata": {},
   "source": [
    "**Versión completa**: escribe una función que sea capaz de ejecutar la **versión base** y llámala dentro de un ciclo para automatizar la lectura de los archivos."
   ]
  },
  {
   "cell_type": "code",
   "execution_count": 128,
   "metadata": {},
   "outputs": [
    {
     "data": {
      "text/html": [
       "<div>\n",
       "<style scoped>\n",
       "    .dataframe tbody tr th:only-of-type {\n",
       "        vertical-align: middle;\n",
       "    }\n",
       "\n",
       "    .dataframe tbody tr th {\n",
       "        vertical-align: top;\n",
       "    }\n",
       "\n",
       "    .dataframe thead th {\n",
       "        text-align: right;\n",
       "    }\n",
       "</style>\n",
       "<table border=\"1\" class=\"dataframe\">\n",
       "  <thead>\n",
       "    <tr style=\"text-align: right;\">\n",
       "      <th></th>\n",
       "      <th>edad</th>\n",
       "      <th>escolaridad</th>\n",
       "      <th>estado_civil</th>\n",
       "      <th>estrato</th>\n",
       "      <th>genero</th>\n",
       "      <th>promedio</th>\n",
       "      <th>region</th>\n",
       "    </tr>\n",
       "  </thead>\n",
       "  <tbody>\n",
       "    <tr>\n",
       "      <th>0</th>\n",
       "      <td>66</td>\n",
       "      <td>Profesional</td>\n",
       "      <td>divorciada</td>\n",
       "      <td>1</td>\n",
       "      <td>masculino</td>\n",
       "      <td>0.9</td>\n",
       "      <td>Region_1</td>\n",
       "    </tr>\n",
       "    <tr>\n",
       "      <th>1</th>\n",
       "      <td>24</td>\n",
       "      <td>Secundaria</td>\n",
       "      <td>divorciada</td>\n",
       "      <td>3</td>\n",
       "      <td>femenino</td>\n",
       "      <td>3.2</td>\n",
       "      <td>Region_2</td>\n",
       "    </tr>\n",
       "    <tr>\n",
       "      <th>2</th>\n",
       "      <td>55</td>\n",
       "      <td>Secundaria</td>\n",
       "      <td>casada</td>\n",
       "      <td>3</td>\n",
       "      <td>masculino</td>\n",
       "      <td>2.1</td>\n",
       "      <td>Region_2</td>\n",
       "    </tr>\n",
       "    <tr>\n",
       "      <th>3</th>\n",
       "      <td>26</td>\n",
       "      <td>Secundaria</td>\n",
       "      <td>divorciada</td>\n",
       "      <td>2</td>\n",
       "      <td>otro</td>\n",
       "      <td>2.1</td>\n",
       "      <td>Region_3</td>\n",
       "    </tr>\n",
       "    <tr>\n",
       "      <th>4</th>\n",
       "      <td>69</td>\n",
       "      <td>Secundaria</td>\n",
       "      <td>divorciada</td>\n",
       "      <td>3</td>\n",
       "      <td>no binario</td>\n",
       "      <td>2.0</td>\n",
       "      <td>Region_4</td>\n",
       "    </tr>\n",
       "    <tr>\n",
       "      <th>...</th>\n",
       "      <td>...</td>\n",
       "      <td>...</td>\n",
       "      <td>...</td>\n",
       "      <td>...</td>\n",
       "      <td>...</td>\n",
       "      <td>...</td>\n",
       "      <td>...</td>\n",
       "    </tr>\n",
       "    <tr>\n",
       "      <th>495</th>\n",
       "      <td>24</td>\n",
       "      <td>Secundaria</td>\n",
       "      <td>viuda</td>\n",
       "      <td>1</td>\n",
       "      <td>femenino</td>\n",
       "      <td>2.9</td>\n",
       "      <td>Region_1</td>\n",
       "    </tr>\n",
       "    <tr>\n",
       "      <th>496</th>\n",
       "      <td>50</td>\n",
       "      <td>Profesional</td>\n",
       "      <td>casada</td>\n",
       "      <td>1</td>\n",
       "      <td>no binario</td>\n",
       "      <td>2.1</td>\n",
       "      <td>Region_1</td>\n",
       "    </tr>\n",
       "    <tr>\n",
       "      <th>497</th>\n",
       "      <td>54</td>\n",
       "      <td>Secundaria</td>\n",
       "      <td>divorciada</td>\n",
       "      <td>2</td>\n",
       "      <td>femenino</td>\n",
       "      <td>2.7</td>\n",
       "      <td>Region_1</td>\n",
       "    </tr>\n",
       "    <tr>\n",
       "      <th>498</th>\n",
       "      <td>66</td>\n",
       "      <td>Secundaria</td>\n",
       "      <td>casada</td>\n",
       "      <td>2</td>\n",
       "      <td>femenino</td>\n",
       "      <td>3.0</td>\n",
       "      <td>Region_2</td>\n",
       "    </tr>\n",
       "    <tr>\n",
       "      <th>0</th>\n",
       "      <td>36</td>\n",
       "      <td>Secundaria</td>\n",
       "      <td>casada</td>\n",
       "      <td>5</td>\n",
       "      <td>masculino</td>\n",
       "      <td>2.4</td>\n",
       "      <td>Region_1</td>\n",
       "    </tr>\n",
       "  </tbody>\n",
       "</table>\n",
       "<p>500 rows × 7 columns</p>\n",
       "</div>"
      ],
      "text/plain": [
       "    edad  escolaridad estado_civil estrato      genero promedio    region\n",
       "0     66  Profesional   divorciada       1   masculino      0.9  Region_1\n",
       "1     24   Secundaria   divorciada       3    femenino      3.2  Region_2\n",
       "2     55   Secundaria       casada       3   masculino      2.1  Region_2\n",
       "3     26   Secundaria   divorciada       2        otro      2.1  Region_3\n",
       "4     69   Secundaria   divorciada       3  no binario      2.0  Region_4\n",
       "..   ...          ...          ...     ...         ...      ...       ...\n",
       "495   24   Secundaria        viuda       1    femenino      2.9  Region_1\n",
       "496   50  Profesional       casada       1  no binario      2.1  Region_1\n",
       "497   54   Secundaria   divorciada       2    femenino      2.7  Region_1\n",
       "498   66   Secundaria       casada       2    femenino      3.0  Region_2\n",
       "0     36   Secundaria       casada       5   masculino      2.4  Region_1\n",
       "\n",
       "[500 rows x 7 columns]"
      ]
     },
     "execution_count": 128,
     "metadata": {},
     "output_type": "execute_result"
    }
   ],
   "source": [
    "# importing packages\n",
    "import pandas as pd\n",
    "import numpy as np\n",
    "import glob\n",
    "def crear_dataframe(ruta):\n",
    "    file_list = glob.glob(ruta + \"/*.txt\")\n",
    "    main_dataframe = pd.DataFrame(pd.read_csv(file_list[0]))\n",
    "    for i in range(1,len(file_list)):\n",
    "        data = pd.read_csv(file_list[i])\n",
    "        df = pd.DataFrame(data)\n",
    "        main_dataframe = pd.concat([main_dataframe,df],axis=1)\n",
    "    fila0=pd.DataFrame(main_dataframe.columns).transpose()\n",
    "    main_dataframe.columns = [0, 1, 2, 3, 4, 5 ,6]\n",
    "    df=pd.concat([main_dataframe,fila0])\n",
    "    df.columns=[\"edad\",\"escolaridad\",\"estado_civil\",\"estrato\",\"genero\",\"promedio\",\"region\"]\n",
    "    return df\n",
    "\n",
    "df=crear_dataframe('Archivos')\n",
    "df"
   ]
  },
  {
   "cell_type": "markdown",
   "metadata": {},
   "source": [
    "### Misión 2"
   ]
  },
  {
   "cell_type": "markdown",
   "metadata": {},
   "source": [
    "**Versión base**: calcula estadísticas descriptivas básicas (por lo menos, media/mediana y varianza/desviación) para cada variable relevante en el contexto del problema y repórtalas concluyendo acerca de las principales características de los datos."
   ]
  },
  {
   "cell_type": "markdown",
   "metadata": {},
   "source": [
    "**Versión completa**: complementa la **versión base** con visualizaciones informativas sobre los datos (ej., histogramas, gráficos de dispersión, boxplots, etc.), relevantes para el problema."
   ]
  },
  {
   "cell_type": "code",
   "execution_count": 132,
   "metadata": {},
   "outputs": [
    {
     "name": "stdout",
     "output_type": "stream",
     "text": [
      "Numero de filas: 500\n",
      "Las personas con titulo profesional son:  117 ,tienen un promedio de:  2.697 ,una mediana de:  3.0 ,una varianza de :  1.434 y una desviacion de:  1.198\n",
      "Las personas con titulo de maestria son:  15 ,tienen un promedio de:  2.847 ,una mediana de:  3.0 ,una varianza de :  0.753 y una desviacion de:  0.868\n",
      "Las personas con titulo de secundaria son:  343 ,tienen un promedio de:  2.595 ,una mediana de:  2.7 ,una varianza de :  1.204 y una desviacion de:  1.097\n",
      "Hay 142 personas de la region_1, hay  117 personas de la region_2, hay  33 personas de la region_3, hay  193 personas de la region_4, hay  15  personas de la region_5\n"
     ]
    }
   ],
   "source": [
    "# Implementa tu respuesta en esta celda\n",
    "Profesional=df[df[\"escolaridad\"]==\"Profesional\"][\"promedio\"]\n",
    "Maestria=df[df[\"escolaridad\"]==\"Maestria\"][\"promedio\"]\n",
    "Secundaria=df[df[\"escolaridad\"]==\"Secundaria\"][\"promedio\"].astype(float)\n",
    "Numero=df.groupby([\"escolaridad\"]).count()\n",
    "Region=df.groupby([\"region\"]).count()\n",
    "\n",
    "print(\"Numero de filas:\",len(df))\n",
    "print(\"Las personas con titulo profesional son: \", Numero.iloc[2,0], \",tienen un promedio de: \", round(Profesional.mean(), 3),\",una mediana de: \",round(Profesional.median(), 3), \",una varianza de : \",round(Profesional.var(0), 3), \"y una desviacion de: \",round(Profesional.std(0), 3) )\n",
    "print(\"Las personas con titulo de maestria son: \", Numero.iloc[0,0], \",tienen un promedio de: \", round(Maestria.mean(), 3),\",una mediana de: \",round(Maestria.median(), 3), \",una varianza de : \",round(Maestria.var(0), 3), \"y una desviacion de: \",round(Maestria.std(0), 3) )\n",
    "print(\"Las personas con titulo de secundaria son: \", Numero.iloc[3,0], \",tienen un promedio de: \", round(Secundaria.mean(), 3),\",una mediana de: \",round(Secundaria.median(), 3), \",una varianza de : \",round(Secundaria.var(0), 3), \"y una desviacion de: \",round(Secundaria.std(0), 3) )\n",
    "print(\"Hay\", Region.iloc[0,0],\"personas de la region_1, hay \",Region.iloc[1,0] ,\"personas de la region_2, hay \",Region.iloc[2,0], \"personas de la region_3, hay \",Region.iloc[3,0],\"personas de la region_4, hay \",Region.iloc[4,0],\" personas de la region_5\")"
   ]
  },
  {
   "cell_type": "code",
   "execution_count": 129,
   "metadata": {},
   "outputs": [
    {
     "data": {
      "text/plain": [
       "<AxesSubplot: xlabel='edad', ylabel='promedio'>"
      ]
     },
     "execution_count": 129,
     "metadata": {},
     "output_type": "execute_result"
    },
    {
     "data": {
      "image/png": "[encoded data removed]",
      "text/plain": [
       "<Figure size 640x480 with 1 Axes>"
      ]
     },
     "metadata": {},
     "output_type": "display_data"
    },
    {
     "data": {
      "image/png": "[encoded data removed]",
      "text/plain": [
       "<Figure size 640x480 with 1 Axes>"
      ]
     },
     "metadata": {},
     "output_type": "display_data"
    }
   ],
   "source": [
    "import matplotlib.pyplot as plt\n",
    "df.plot( \"region\",\"edad\", kind=\"scatter\")\n",
    "df.plot( \"edad\",\"promedio\", kind=\"scatter\")\n"
   ]
  },
  {
   "cell_type": "code",
   "execution_count": 130,
   "metadata": {},
   "outputs": [
    {
     "data": {
      "text/plain": [
       "Text(0, 0.5, 'densidad')"
      ]
     },
     "execution_count": 130,
     "metadata": {},
     "output_type": "execute_result"
    },
    {
     "data": {
      "image/png": "[encoded data removed]",
      "text/plain": [
       "<Figure size 640x480 with 1 Axes>"
      ]
     },
     "metadata": {},
     "output_type": "display_data"
    }
   ],
   "source": [
    "plt.hist(df[\"region\"], bins=12, density=True)\n",
    "plt.xlabel('region')\n",
    "plt.ylabel('densidad')"
   ]
  },
  {
   "cell_type": "code",
   "execution_count": 131,
   "metadata": {},
   "outputs": [
    {
     "data": {
      "text/plain": [
       "(array([0.936, 0.   , 0.   , 0.   , 2.744, 0.   , 0.   , 0.   , 0.2  ,\n",
       "        0.   , 0.   , 0.12 ]),\n",
       " array([0.  , 0.25, 0.5 , 0.75, 1.  , 1.25, 1.5 , 1.75, 2.  , 2.25, 2.5 ,\n",
       "        2.75, 3.  ]),\n",
       " <BarContainer object of 12 artists>)"
      ]
     },
     "execution_count": 131,
     "metadata": {},
     "output_type": "execute_result"
    },
    {
     "data": {
      "image/png": "[encoded data removed]",
      "text/plain": [
       "<Figure size 640x480 with 1 Axes>"
      ]
     },
     "metadata": {},
     "output_type": "display_data"
    }
   ],
   "source": [
    "plt.hist(df[\"escolaridad\"], bins=12, density=True)"
   ]
  },
  {
   "cell_type": "markdown",
   "metadata": {},
   "source": [
    "## Referencias"
   ]
  },
  {
   "cell_type": "markdown",
   "metadata": {},
   "source": [
    "* Discriminación Positiva<br>\n",
    "https://es.wikipedia.org/wiki/Discriminaci%C3%B3n_positiva\n",
    "* Análisis de formulación del programa “Ser Pilo Paga”<br>\n",
    "https://repository.urosario.edu.co/handle/10336/12526\n",
    "* La acción afirmativa en la Universidad de los Andes: El caso del programa \"Oportunidades para talentos nacionales\"<br> http://www.scielo.org.co/scielo.php?script=sci_arttext&pid=S0123-885X2004000300005\n",
    "* Acción afirmativa y equidad: un análisis desde la propuesta de Thomas Nagel<br>\n",
    "http://www.scielo.org.mx/scielo.php?script=sci_arttext&pid=S2007-24062016000200049"
   ]
  },
  {
   "cell_type": "markdown",
   "metadata": {},
   "source": [
    "## Créditos"
   ]
  },
  {
   "cell_type": "markdown",
   "metadata": {},
   "source": [
    "__Autores__: Camilo Hernando Gómez Castro, Alejandro Mantilla Redondo, Diego Alejandro Cely Gómez.\n",
    " \n",
    "__Fecha última actualización__: 11/07/2022"
   ]
  }
 ],
 "metadata": {
  "kernelspec": {
   "display_name": "Python 3.10.4 64-bit",
   "language": "python",
   "name": "python3"
  },
  "language_info": {
   "codemirror_mode": {
    "name": "ipython",
    "version": 3
   },
   "file_extension": ".py",
   "mimetype": "text/x-python",
   "name": "python",
   "nbconvert_exporter": "python",
   "pygments_lexer": "ipython3",
   "version": "3.10.8"
  },
  "vscode": {
   "interpreter": {
    "hash": "d4c41674199e5f0c3e323bd49c31f1e9c60cd1c6133c77a18e67c235dc70ace2"
   }
  }
 },
 "nbformat": 4,
 "nbformat_minor": 1
}
